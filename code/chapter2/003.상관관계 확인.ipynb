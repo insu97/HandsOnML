{
 "cells": [
  {
   "cell_type": "code",
   "execution_count": 9,
   "id": "3c8d37f2",
   "metadata": {
    "ExecuteTime": {
     "end_time": "2022-10-11T06:34:15.706443Z",
     "start_time": "2022-10-11T06:34:15.680903Z"
    }
   },
   "outputs": [],
   "source": [
    "import numpy as np\n",
    "import warnings\n",
    "warnings.filterwarnings('ignore')\n",
    "\n",
    "# 맷플롯립 설정\n",
    "%matplotlib inline\n",
    "import matplotlib\n",
    "import matplotlib.pyplot as plt\n",
    "plt.rcParams['axes.labelsize'] = 14\n",
    "plt.rcParams['xtick.labelsize'] = 12\n",
    "plt.rcParams['ytick.labelsize'] = 12\n",
    "\n",
    "# 한글출력\n",
    "matplotlib.rc('font', family='NanumGothic')\n",
    "plt.rcParams['axes.unicode_minus'] = False\n",
    "plt.rc('font', family='Malgun Gothic')"
   ]
  },
  {
   "cell_type": "markdown",
   "id": "8758e20c",
   "metadata": {},
   "source": [
    "# 데이터 불러오기"
   ]
  },
  {
   "cell_type": "code",
   "execution_count": 2,
   "id": "6e514260",
   "metadata": {
    "ExecuteTime": {
     "end_time": "2022-10-11T06:31:35.421434Z",
     "start_time": "2022-10-11T06:31:35.316176Z"
    }
   },
   "outputs": [],
   "source": [
    "import pandas as pd\n",
    "\n",
    "strat_train_set = pd.read_csv(\"datasets/housing/strat_train_set.csv\")\n",
    "strat_test_set = pd.read_csv(\"datasets/housing/strat_test_set.csv\")"
   ]
  },
  {
   "cell_type": "markdown",
   "id": "435c34d9",
   "metadata": {},
   "source": [
    "# 상관관계"
   ]
  },
  {
   "cell_type": "code",
   "execution_count": 3,
   "id": "95ba8d59",
   "metadata": {
    "ExecuteTime": {
     "end_time": "2022-10-11T06:32:02.693525Z",
     "start_time": "2022-10-11T06:32:02.670088Z"
    }
   },
   "outputs": [],
   "source": [
    "housing = strat_train_set.copy()"
   ]
  },
  {
   "cell_type": "code",
   "execution_count": 6,
   "id": "871260b6",
   "metadata": {
    "ExecuteTime": {
     "end_time": "2022-10-11T06:32:59.144684Z",
     "start_time": "2022-10-11T06:32:59.120323Z"
    }
   },
   "outputs": [],
   "source": [
    "corr_matrix = housing.corr()"
   ]
  },
  {
   "cell_type": "code",
   "execution_count": 7,
   "id": "e42a0e89",
   "metadata": {
    "ExecuteTime": {
     "end_time": "2022-10-11T06:33:15.924633Z",
     "start_time": "2022-10-11T06:33:15.880635Z"
    }
   },
   "outputs": [
    {
     "data": {
      "text/plain": [
       "median_house_value    1.000000\n",
       "median_income         0.687151\n",
       "total_rooms           0.135140\n",
       "housing_median_age    0.114146\n",
       "households            0.064590\n",
       "total_bedrooms        0.047781\n",
       "population           -0.026882\n",
       "longitude            -0.047466\n",
       "latitude             -0.142673\n",
       "Name: median_house_value, dtype: float64"
      ]
     },
     "execution_count": 7,
     "metadata": {},
     "output_type": "execute_result"
    }
   ],
   "source": [
    "corr_matrix[\"median_house_value\"].sort_values(ascending=False)"
   ]
  },
  {
   "cell_type": "markdown",
   "id": "22ede3f1",
   "metadata": {},
   "source": [
    "## 새로운 특성 조합해보기\n",
    "    - 이 단계는 처음에는 무시하고 프로토타입을 먼저 만든 후 이 단계로 오는 것이 바람직하다."
   ]
  },
  {
   "cell_type": "code",
   "execution_count": 13,
   "id": "ad8a733c",
   "metadata": {
    "ExecuteTime": {
     "end_time": "2022-10-11T06:37:57.848417Z",
     "start_time": "2022-10-11T06:37:57.836456Z"
    }
   },
   "outputs": [],
   "source": [
    "housing[\"rooms_per_household\"] = housing[\"total_rooms\"]/housing[\"households\"]\n",
    "housing[\"bedrooms_per_room\"] = housing[\"total_bedrooms\"]/housing[\"total_rooms\"]\n",
    "housing[\"population_per_household\"]=housing[\"population\"]/housing[\"households\"]"
   ]
  },
  {
   "cell_type": "code",
   "execution_count": 14,
   "id": "25dce0b7",
   "metadata": {
    "ExecuteTime": {
     "end_time": "2022-10-11T06:38:06.822312Z",
     "start_time": "2022-10-11T06:38:06.780156Z"
    }
   },
   "outputs": [
    {
     "data": {
      "text/plain": [
       "median_house_value          1.000000\n",
       "median_income               0.687151\n",
       "rooms_per_household         0.146255\n",
       "total_rooms                 0.135140\n",
       "housing_median_age          0.114146\n",
       "households                  0.064590\n",
       "total_bedrooms              0.047781\n",
       "population_per_household   -0.021991\n",
       "population                 -0.026882\n",
       "longitude                  -0.047466\n",
       "latitude                   -0.142673\n",
       "bedrooms_per_room          -0.259952\n",
       "Name: median_house_value, dtype: float64"
      ]
     },
     "execution_count": 14,
     "metadata": {},
     "output_type": "execute_result"
    }
   ],
   "source": [
    "corr_matrix = housing.corr()\n",
    "corr_matrix[\"median_house_value\"].sort_values(ascending=False)"
   ]
  }
 ],
 "metadata": {
  "hide_input": false,
  "kernelspec": {
   "display_name": "Python 3 (ipykernel)",
   "language": "python",
   "name": "python3"
  },
  "language_info": {
   "codemirror_mode": {
    "name": "ipython",
    "version": 3
   },
   "file_extension": ".py",
   "mimetype": "text/x-python",
   "name": "python",
   "nbconvert_exporter": "python",
   "pygments_lexer": "ipython3",
   "version": "3.9.13"
  },
  "toc": {
   "base_numbering": 1,
   "nav_menu": {},
   "number_sections": true,
   "sideBar": true,
   "skip_h1_title": false,
   "title_cell": "Table of Contents",
   "title_sidebar": "Contents",
   "toc_cell": false,
   "toc_position": {},
   "toc_section_display": true,
   "toc_window_display": false
  },
  "varInspector": {
   "cols": {
    "lenName": 16,
    "lenType": 16,
    "lenVar": 40
   },
   "kernels_config": {
    "python": {
     "delete_cmd_postfix": "",
     "delete_cmd_prefix": "del ",
     "library": "var_list.py",
     "varRefreshCmd": "print(var_dic_list())"
    },
    "r": {
     "delete_cmd_postfix": ") ",
     "delete_cmd_prefix": "rm(",
     "library": "var_list.r",
     "varRefreshCmd": "cat(var_dic_list()) "
    }
   },
   "types_to_exclude": [
    "module",
    "function",
    "builtin_function_or_method",
    "instance",
    "_Feature"
   ],
   "window_display": false
  }
 },
 "nbformat": 4,
 "nbformat_minor": 5
}
